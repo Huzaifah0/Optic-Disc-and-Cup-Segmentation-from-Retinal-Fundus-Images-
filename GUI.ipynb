{
 "cells": [
  {
   "cell_type": "code",
   "execution_count": 1,
   "id": "da0de8e7-5c09-476d-843e-b2ad806b890a",
   "metadata": {},
   "outputs": [],
   "source": [
    "import tkinter as tk\n",
    "from tkinter import Label\n",
    "from tkinter import filedialog\n",
    "from PIL import Image, ImageTk\n",
    "import tensorflow as tf\n",
    "import keras\n",
    "import cv2\n",
    "import numpy as np\n",
    "import matplotlib.pyplot as plt "
   ]
  },
  {
   "cell_type": "code",
   "execution_count": 2,
   "id": "021b36d5-2c71-4c82-b2bf-1308e925460a",
   "metadata": {},
   "outputs": [],
   "source": [
    "#Loading the model\n",
    "cups=keras.saving.load_model('cups.keras')\n",
    "discs=keras.saving.load_model('discs.keras')"
   ]
  },
  {
   "cell_type": "code",
   "execution_count": 5,
   "id": "02adc6b2-872e-4d93-ba9d-e810a0e4de30",
   "metadata": {},
   "outputs": [],
   "source": [
    "#Image importing\n",
    "def imageBrowser():\n",
    "    path= tk.filedialog.askopenfilename(filetypes=[(\"Image files\", \"*.png;*.jpg\")])\n",
    " \n",
    "    # if file is selected\n",
    "    if len(path)!=0:\n",
    "        input=cv2.imread(path)\n",
    "        input=cv2.resize(input,(128,128))\n",
    "        input=tf.convert_to_tensor(input)\n",
    "        input=tf.divide(tf.cast(input, tf.float32), 255.0)\n",
    "\n",
    "        cup_segment = cups.predict(tf.expand_dims(input, 0))\n",
    "        cup_segment[0]*=255\n",
    "        cup=np.zeros((128,128),dtype=np.uint8)\n",
    "        for i in range(128):\n",
    "            for j in range(128):\n",
    "                cup[i][j]=cup_segment[0][i][j][0]\n",
    "        cup = cv2.GaussianBlur(cup,(5,5),0)\n",
    "        __,cup = cv2.threshold(cup,0,255,cv2.THRESH_BINARY+cv2.THRESH_OTSU)\n",
    "        \n",
    "        disc_segment = discs.predict(tf.expand_dims(input, 0))\n",
    "        disc_segment[0]*=255\n",
    "        disc=np.zeros((128,128),dtype=np.uint8)\n",
    "        for i in range(128):\n",
    "            for j in range(128):\n",
    "                disc[i][j]=disc_segment[0][i][j][0]\n",
    "        disc = cv2.GaussianBlur(disc,(5,5),0)\n",
    "        __,disc = cv2.threshold(disc,0,128,cv2.THRESH_BINARY+cv2.THRESH_OTSU)\n",
    "\n",
    "        joined = np.where((cup == 255), 255, np.where((disc == 128), 128, 0))\n",
    "        \n",
    "        cup_count=np.count_nonzero(cup)\n",
    "        disc_count=np.count_nonzero(disc)\n",
    "\n",
    "        CDR=cup_count/disc_count\n",
    "        print(\"CDR = \",CDR)\n",
    "\n",
    "        plt.imshow(joined,'gray')\n",
    "\n",
    "        app.destroy()\n",
    "        \n",
    " \n",
    "    # if no file is selected, then we are displaying below message\n",
    "    else:\n",
    "        print(\"Bad file path.\")"
   ]
  },
  {
   "cell_type": "code",
   "execution_count": 8,
   "id": "031414b5-1e43-4e44-b8dc-f2394fb1c440",
   "metadata": {},
   "outputs": [
    {
     "name": "stdout",
     "output_type": "stream",
     "text": [
      "\u001b[1m1/1\u001b[0m \u001b[32m━━━━━━━━━━━━━━━━━━━━\u001b[0m\u001b[37m\u001b[0m \u001b[1m0s\u001b[0m 53ms/step\n",
      "\u001b[1m1/1\u001b[0m \u001b[32m━━━━━━━━━━━━━━━━━━━━\u001b[0m\u001b[37m\u001b[0m \u001b[1m0s\u001b[0m 57ms/step\n",
      "CDR =  0.3155893536121673\n"
     ]
    },
    {
     "data": {
      "image/png": "[encoded data removed]",
      "text/plain": [
       "<Figure size 640x480 with 1 Axes>"
      ]
     },
     "metadata": {},
     "output_type": "display_data"
    }
   ],
   "source": [
    "app = tk.Tk()\n",
    "\n",
    "app.title(\"Optic Disk and Cup Segmentation\")\n",
    "app.geometry(\"200x100\")\n",
    "app.option_add(\"*Button*Background\", \"lightblue\")\n",
    " \n",
    "label = tk.Label(app)\n",
    "label.pack(side=tk.LEFT,pady=10)\n",
    "\n",
    "\n",
    "# defining our upload buttom\n",
    "uploadButton = tk.Button(app, text=\"Upload Image\", command=imageBrowser)\n",
    "uploadButton.pack(side=tk.BOTTOM, pady=20)\n",
    "\n",
    "app.mainloop()\n"
   ]
  }
 ],
 "metadata": {
  "kernelspec": {
   "display_name": "Python 3 (ipykernel)",
   "language": "python",
   "name": "python3"
  },
  "language_info": {
   "codemirror_mode": {
    "name": "ipython",
    "version": 3
   },
   "file_extension": ".py",
   "mimetype": "text/x-python",
   "name": "python",
   "nbconvert_exporter": "python",
   "pygments_lexer": "ipython3",
   "version": "3.11.7"
  }
 },
 "nbformat": 4,
 "nbformat_minor": 5
}
