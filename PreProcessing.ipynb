{
 "cells": [
  {
   "cell_type": "code",
   "execution_count": 1,
   "id": "e01b3c35-4191-45ba-a633-75661ee6dc82",
   "metadata": {},
   "outputs": [],
   "source": [
    "import cv2"
   ]
  },
  {
   "cell_type": "code",
   "execution_count": 2,
   "id": "fea563c4-d551-43a9-a30b-c46b6fbff7aa",
   "metadata": {},
   "outputs": [],
   "source": [
    "def separate_cups():\n",
    "    initial_path = 'data/'\n",
    "    max_images = 100+1\n",
    "    for i in range(1,max_images):\n",
    "        curr_path = initial_path + 'output/' + str(i) + '.tif'\n",
    "        curr_image = cv2.imread(curr_path,cv2.IMREAD_GRAYSCALE)\n",
    "        _,new_im = cv2.threshold(curr_image,129,255,cv2.THRESH_BINARY)\n",
    "        output_path = initial_path + 'cups/' + str(i) + '.tif'\n",
    "        cv2.imwrite(output_path,new_im)"
   ]
  },
  {
   "cell_type": "code",
   "execution_count": 3,
   "id": "7f25b589-f282-482b-abd8-691a0bf310c2",
   "metadata": {},
   "outputs": [],
   "source": [
    "def separate_discs():\n",
    "    initial_path = 'data/'\n",
    "    max_images = 100+1\n",
    "    for i in range(1,max_images):\n",
    "        curr_path = initial_path + 'output/' + str(i) + '.tif'\n",
    "        curr_image = cv2.imread(curr_path,cv2.IMREAD_GRAYSCALE)\n",
    "        _,new_im = cv2.threshold(curr_image,1,255,cv2.THRESH_BINARY)\n",
    "        output_path = initial_path + 'discs/' + str(i) + '.tif'\n",
    "        cv2.imwrite(output_path,new_im)"
   ]
  },
  {
   "cell_type": "code",
   "execution_count": 4,
   "id": "60089fd8-d7b8-4739-87b4-370aff1bfa01",
   "metadata": {},
   "outputs": [],
   "source": [
    "separate_cups()\n",
    "separate_discs()"
   ]
  }
 ],
 "metadata": {
  "kernelspec": {
   "display_name": "Python 3 (ipykernel)",
   "language": "python",
   "name": "python3"
  },
  "language_info": {
   "codemirror_mode": {
    "name": "ipython",
    "version": 3
   },
   "file_extension": ".py",
   "mimetype": "text/x-python",
   "name": "python",
   "nbconvert_exporter": "python",
   "pygments_lexer": "ipython3",
   "version": "3.11.7"
  }
 },
 "nbformat": 4,
 "nbformat_minor": 5
}
